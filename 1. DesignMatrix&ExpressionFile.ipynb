{
 "cells": [
  {
   "cell_type": "code",
   "execution_count": 2,
   "id": "cdc836ef",
   "metadata": {},
   "outputs": [],
   "source": [
    "import pandas as pd"
   ]
  },
  {
   "cell_type": "code",
   "execution_count": 13,
   "id": "d816a565",
   "metadata": {},
   "outputs": [],
   "source": [
    "data_path = './Non-Pulsed vs Pulsed-Blebbistatin/'\n",
    "\n",
    "non_pulsed_196 = pd.read_csv(data_path + 'Non-Pulsed-GSM398196.csv')\n",
    "non_pulsed_198 = pd.read_csv(data_path + 'Non-Pulsed-GSM398198.csv')\n",
    "non_pulsed_201 = pd.read_csv(data_path + 'Non-Pulsed-GSM398201.csv')\n",
    "\n",
    "pulsed_197 = pd.read_csv(data_path + 'Pulsed-Blebbistatin-GSM398200.csv')\n",
    "pulsed_199 = pd.read_csv(data_path + 'Pulsed-Blebbistatin-GSM398203.csv')\n",
    "pulsed_202 = pd.read_csv(data_path + 'Pulsed-Blebbistatin-GSM398205.csv')"
   ]
  },
  {
   "cell_type": "code",
   "execution_count": 14,
   "id": "ab861cdb",
   "metadata": {},
   "outputs": [],
   "source": [
    "merged = pd.DataFrame(non_pulsed_196['ID_REF'])"
   ]
  },
  {
   "cell_type": "code",
   "execution_count": 15,
   "id": "bab997e1",
   "metadata": {},
   "outputs": [],
   "source": [
    "merged['non_pulsed_196'] = non_pulsed_196['VALUE']\n",
    "merged['non_pulsed_198'] = non_pulsed_198['VALUE']\n",
    "merged['non_pulsed_201'] = non_pulsed_201['VALUE']\n",
    "\n",
    "merged['pulsed_200'] = pulsed_197['VALUE']\n",
    "merged['pulsed_203'] = pulsed_199['VALUE']\n",
    "merged['pulsed_205'] = pulsed_202['VALUE']"
   ]
  },
  {
   "cell_type": "code",
   "execution_count": null,
   "id": "627cfba5",
   "metadata": {},
   "outputs": [],
   "source": []
  },
  {
   "cell_type": "code",
   "execution_count": 16,
   "id": "f2621a61",
   "metadata": {},
   "outputs": [],
   "source": [
    "merged.to_csv('expression_file_microarray.csv', index=False)"
   ]
  },
  {
   "cell_type": "code",
   "execution_count": 17,
   "id": "6f1bc136",
   "metadata": {},
   "outputs": [],
   "source": [
    "merged.to_excel(\"expression_file_microarray.xlsx\", index=False)  \n"
   ]
  },
  {
   "cell_type": "code",
   "execution_count": 7,
   "id": "d217e666",
   "metadata": {},
   "outputs": [],
   "source": [
    "design_matrix_microarray = {\n",
    "    \"ID_REF\": ['non_pulsed_196', 'non_pulsed_198', 'non_pulsed_201', 'pulsed_200', 'pulsed_203', 'pulsed_205'],\n",
    "    \"Target\": ['NP', 'NP', 'NP', 'P', 'P', 'P']\n",
    "}\n",
    "\n",
    "design_matrix_df = pd.DataFrame(design_matrix_microarray)"
   ]
  },
  {
   "cell_type": "code",
   "execution_count": 8,
   "id": "bd5eb2bc",
   "metadata": {},
   "outputs": [],
   "source": [
    "design_matrix_df.to_csv('design_file_microarray.csv', index=False)"
   ]
  },
  {
   "cell_type": "code",
   "execution_count": 18,
   "id": "89f7611e",
   "metadata": {},
   "outputs": [],
   "source": [
    "design_matrix_df.to_csv('design_file_microarray.xlsx', index=False)"
   ]
  },
  {
   "cell_type": "raw",
   "id": "a1d2dfe9",
   "metadata": {},
   "source": []
  },
  {
   "cell_type": "code",
   "execution_count": null,
   "id": "8568a14e",
   "metadata": {},
   "outputs": [],
   "source": []
  },
  {
   "cell_type": "code",
   "execution_count": null,
   "id": "1ac6eca0",
   "metadata": {},
   "outputs": [],
   "source": []
  }
 ],
 "metadata": {
  "kernelspec": {
   "display_name": "Python 3 (ipykernel)",
   "language": "python",
   "name": "python3"
  },
  "language_info": {
   "codemirror_mode": {
    "name": "ipython",
    "version": 3
   },
   "file_extension": ".py",
   "mimetype": "text/x-python",
   "name": "python",
   "nbconvert_exporter": "python",
   "pygments_lexer": "ipython3",
   "version": "3.9.16"
  }
 },
 "nbformat": 4,
 "nbformat_minor": 5
}
